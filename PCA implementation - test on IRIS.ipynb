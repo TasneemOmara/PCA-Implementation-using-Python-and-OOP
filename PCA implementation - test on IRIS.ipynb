{
 "cells": [
  {
   "cell_type": "code",
   "execution_count": 317,
   "id": "2b6aa00b",
   "metadata": {
    "ExecuteTime": {
     "end_time": "2021-09-01T19:23:31.343021Z",
     "start_time": "2021-09-01T19:23:31.340103Z"
    }
   },
   "outputs": [],
   "source": [
    "import numpy as np\n",
    "import pandas as pd \n",
    "from scipy import linalg as LA\n",
    "import sklearn.decomposition\n",
    "from sklearn.preprocessing import StandardScaler"
   ]
  },
  {
   "cell_type": "markdown",
   "id": "fd6bfe9c",
   "metadata": {},
   "source": [
    "## Data for testing"
   ]
  },
  {
   "cell_type": "code",
   "execution_count": 318,
   "id": "c75a70c4",
   "metadata": {
    "ExecuteTime": {
     "end_time": "2021-09-01T19:23:31.737894Z",
     "start_time": "2021-09-01T19:23:31.717843Z"
    }
   },
   "outputs": [],
   "source": [
    "from sklearn.datasets import load_iris\n",
    "data = load_iris()\n",
    "df = pd.DataFrame(data.data, columns=data.feature_names)\n",
    "df['target'] = pd.Series(data.target)"
   ]
  },
  {
   "cell_type": "code",
   "execution_count": 319,
   "id": "799ea555",
   "metadata": {
    "ExecuteTime": {
     "end_time": "2021-09-01T19:23:31.896426Z",
     "start_time": "2021-09-01T19:23:31.890001Z"
    }
   },
   "outputs": [],
   "source": [
    "features = df.columns[0:4] #grab all numeric columns of interest"
   ]
  },
  {
   "cell_type": "code",
   "execution_count": 320,
   "id": "cc2a832a",
   "metadata": {
    "ExecuteTime": {
     "end_time": "2021-09-01T19:23:32.039305Z",
     "start_time": "2021-09-01T19:23:32.034251Z"
    }
   },
   "outputs": [
    {
     "data": {
      "text/plain": [
       "Index(['sepal length (cm)', 'sepal width (cm)', 'petal length (cm)',\n",
       "       'petal width (cm)'],\n",
       "      dtype='object')"
      ]
     },
     "execution_count": 320,
     "metadata": {},
     "output_type": "execute_result"
    }
   ],
   "source": [
    "features"
   ]
  },
  {
   "cell_type": "code",
   "execution_count": 321,
   "id": "abef380b",
   "metadata": {
    "ExecuteTime": {
     "end_time": "2021-09-01T19:23:32.203729Z",
     "start_time": "2021-09-01T19:23:32.194705Z"
    }
   },
   "outputs": [
    {
     "name": "stdout",
     "output_type": "stream",
     "text": [
      "<class 'pandas.core.frame.DataFrame'>\n",
      "RangeIndex: 150 entries, 0 to 149\n",
      "Data columns (total 5 columns):\n",
      " #   Column             Non-Null Count  Dtype  \n",
      "---  ------             --------------  -----  \n",
      " 0   sepal length (cm)  150 non-null    float64\n",
      " 1   sepal width (cm)   150 non-null    float64\n",
      " 2   petal length (cm)  150 non-null    float64\n",
      " 3   petal width (cm)   150 non-null    float64\n",
      " 4   target             150 non-null    int64  \n",
      "dtypes: float64(4), int64(1)\n",
      "memory usage: 6.0 KB\n"
     ]
    }
   ],
   "source": [
    "df.info()"
   ]
  },
  {
   "cell_type": "markdown",
   "id": "37f987a9",
   "metadata": {},
   "source": [
    "# PCA Implementation"
   ]
  },
  {
   "cell_type": "markdown",
   "id": "28498ee2",
   "metadata": {},
   "source": [
    "## Satandardization"
   ]
  },
  {
   "cell_type": "markdown",
   "id": "bc2e4053",
   "metadata": {},
   "source": [
    "### Implementation"
   ]
  },
  {
   "cell_type": "code",
   "execution_count": 342,
   "id": "258bf1b7",
   "metadata": {
    "ExecuteTime": {
     "end_time": "2021-09-01T19:24:29.409259Z",
     "start_time": "2021-09-01T19:24:29.402957Z"
    }
   },
   "outputs": [],
   "source": [
    "def standardize(df):\n",
    "    df_copy = df.copy()\n",
    "    \n",
    "    for col in list(df_copy.columns):\n",
    "        col_mean = df_copy[col].mean()\n",
    "        col_std = df_copy[col].std()\n",
    "        df_copy[col] = (df_copy[col] - col_mean) / (col_std)\n",
    "    return df_copy"
   ]
  },
  {
   "cell_type": "markdown",
   "id": "09e8e3ab",
   "metadata": {},
   "source": [
    "### Testing"
   ]
  },
  {
   "cell_type": "markdown",
   "id": "edc57b76",
   "metadata": {},
   "source": [
    "#### Before standardization"
   ]
  },
  {
   "cell_type": "code",
   "execution_count": 343,
   "id": "b4c80190",
   "metadata": {
    "ExecuteTime": {
     "end_time": "2021-09-01T19:24:31.177776Z",
     "start_time": "2021-09-01T19:24:31.168858Z"
    }
   },
   "outputs": [
    {
     "data": {
      "text/plain": [
       "sepal length (cm)    5.843333\n",
       "sepal width (cm)     3.057333\n",
       "petal length (cm)    3.758000\n",
       "petal width (cm)     1.199333\n",
       "target               1.000000\n",
       "dtype: float64"
      ]
     },
     "execution_count": 343,
     "metadata": {},
     "output_type": "execute_result"
    }
   ],
   "source": [
    "df.mean()"
   ]
  },
  {
   "cell_type": "code",
   "execution_count": 344,
   "id": "010ee754",
   "metadata": {
    "ExecuteTime": {
     "end_time": "2021-09-01T19:24:32.690059Z",
     "start_time": "2021-09-01T19:24:31.512541Z"
    }
   },
   "outputs": [
    {
     "data": {
      "text/plain": [
       "array([[<AxesSubplot:title={'center':'sepal length (cm)'}>,\n",
       "        <AxesSubplot:title={'center':'sepal width (cm)'}>],\n",
       "       [<AxesSubplot:title={'center':'petal length (cm)'}>,\n",
       "        <AxesSubplot:title={'center':'petal width (cm)'}>]], dtype=object)"
      ]
     },
     "execution_count": 344,
     "metadata": {},
     "output_type": "execute_result"
    },
    {
     "data": {
      "image/png": "[encoded data removed]",
      "text/plain": [
       "<Figure size 1080x504 with 4 Axes>"
      ]
     },
     "metadata": {
      "needs_background": "light"
     },
     "output_type": "display_data"
    }
   ],
   "source": [
    "df[features].hist(bins = 50, figsize=(15,7))"
   ]
  },
  {
   "cell_type": "markdown",
   "id": "b0363ae7",
   "metadata": {},
   "source": [
    "#### After standardization"
   ]
  },
  {
   "cell_type": "code",
   "execution_count": 345,
   "id": "b34fa50e",
   "metadata": {
    "ExecuteTime": {
     "end_time": "2021-09-01T19:24:32.781571Z",
     "start_time": "2021-09-01T19:24:32.775001Z"
    }
   },
   "outputs": [],
   "source": [
    "df_standard = pd.DataFrame(standardize(df[features]))"
   ]
  },
  {
   "cell_type": "code",
   "execution_count": 346,
   "id": "a6364b2b",
   "metadata": {
    "ExecuteTime": {
     "end_time": "2021-09-01T19:24:33.527925Z",
     "start_time": "2021-09-01T19:24:32.858694Z"
    }
   },
   "outputs": [
    {
     "data": {
      "text/plain": [
       "array([[<AxesSubplot:title={'center':'sepal length (cm)'}>,\n",
       "        <AxesSubplot:title={'center':'sepal width (cm)'}>],\n",
       "       [<AxesSubplot:title={'center':'petal length (cm)'}>,\n",
       "        <AxesSubplot:title={'center':'petal width (cm)'}>]], dtype=object)"
      ]
     },
     "execution_count": 346,
     "metadata": {},
     "output_type": "execute_result"
    },
    {
     "data": {
      "image/png": "[encoded data removed]",
      "text/plain": [
       "<Figure size 1080x504 with 4 Axes>"
      ]
     },
     "metadata": {
      "needs_background": "light"
     },
     "output_type": "display_data"
    }
   ],
   "source": [
    "df_standard.hist(bins = 50, figsize=(15,7))"
   ]
  },
  {
   "cell_type": "markdown",
   "id": "08f59ca8",
   "metadata": {},
   "source": [
    "## Covariance Matrix Computation"
   ]
  },
  {
   "cell_type": "markdown",
   "id": "b56e5b94",
   "metadata": {},
   "source": [
    "### Implementation"
   ]
  },
  {
   "cell_type": "code",
   "execution_count": 347,
   "id": "754080a0",
   "metadata": {
    "ExecuteTime": {
     "end_time": "2021-09-01T19:24:33.705859Z",
     "start_time": "2021-09-01T19:24:33.698344Z"
    }
   },
   "outputs": [],
   "source": [
    "def get_convariance_matrix(df):\n",
    "    cov_mat = df.cov()\n",
    "    return cov_mat"
   ]
  },
  {
   "cell_type": "markdown",
   "id": "d5c0db6c",
   "metadata": {},
   "source": [
    "### Testing"
   ]
  },
  {
   "cell_type": "markdown",
   "id": "37a2efcc",
   "metadata": {},
   "source": [
    "##### Before standardization, variances are not 1"
   ]
  },
  {
   "cell_type": "code",
   "execution_count": 348,
   "id": "4c8df51f",
   "metadata": {
    "ExecuteTime": {
     "end_time": "2021-09-01T19:24:34.718383Z",
     "start_time": "2021-09-01T19:24:34.685857Z"
    }
   },
   "outputs": [
    {
     "data": {
      "text/html": [
       "<div>\n",
       "<style scoped>\n",
       "    .dataframe tbody tr th:only-of-type {\n",
       "        vertical-align: middle;\n",
       "    }\n",
       "\n",
       "    .dataframe tbody tr th {\n",
       "        vertical-align: top;\n",
       "    }\n",
       "\n",
       "    .dataframe thead th {\n",
       "        text-align: right;\n",
       "    }\n",
       "</style>\n",
       "<table border=\"1\" class=\"dataframe\">\n",
       "  <thead>\n",
       "    <tr style=\"text-align: right;\">\n",
       "      <th></th>\n",
       "      <th>sepal length (cm)</th>\n",
       "      <th>sepal width (cm)</th>\n",
       "      <th>petal length (cm)</th>\n",
       "      <th>petal width (cm)</th>\n",
       "    </tr>\n",
       "  </thead>\n",
       "  <tbody>\n",
       "    <tr>\n",
       "      <th>sepal length (cm)</th>\n",
       "      <td>0.685694</td>\n",
       "      <td>-0.042434</td>\n",
       "      <td>1.274315</td>\n",
       "      <td>0.516271</td>\n",
       "    </tr>\n",
       "    <tr>\n",
       "      <th>sepal width (cm)</th>\n",
       "      <td>-0.042434</td>\n",
       "      <td>0.189979</td>\n",
       "      <td>-0.329656</td>\n",
       "      <td>-0.121639</td>\n",
       "    </tr>\n",
       "    <tr>\n",
       "      <th>petal length (cm)</th>\n",
       "      <td>1.274315</td>\n",
       "      <td>-0.329656</td>\n",
       "      <td>3.116278</td>\n",
       "      <td>1.295609</td>\n",
       "    </tr>\n",
       "    <tr>\n",
       "      <th>petal width (cm)</th>\n",
       "      <td>0.516271</td>\n",
       "      <td>-0.121639</td>\n",
       "      <td>1.295609</td>\n",
       "      <td>0.581006</td>\n",
       "    </tr>\n",
       "  </tbody>\n",
       "</table>\n",
       "</div>"
      ],
      "text/plain": [
       "                   sepal length (cm)  sepal width (cm)  petal length (cm)  \\\n",
       "sepal length (cm)           0.685694         -0.042434           1.274315   \n",
       "sepal width (cm)           -0.042434          0.189979          -0.329656   \n",
       "petal length (cm)           1.274315         -0.329656           3.116278   \n",
       "petal width (cm)            0.516271         -0.121639           1.295609   \n",
       "\n",
       "                   petal width (cm)  \n",
       "sepal length (cm)          0.516271  \n",
       "sepal width (cm)          -0.121639  \n",
       "petal length (cm)          1.295609  \n",
       "petal width (cm)           0.581006  "
      ]
     },
     "execution_count": 348,
     "metadata": {},
     "output_type": "execute_result"
    }
   ],
   "source": [
    "cov_matrix = get_convariance_matrix(df[features])\n",
    "cov_matrix"
   ]
  },
  {
   "cell_type": "markdown",
   "id": "cb439b28",
   "metadata": {},
   "source": [
    "##### After standardization, variances are 1"
   ]
  },
  {
   "cell_type": "code",
   "execution_count": 349,
   "id": "3825e504",
   "metadata": {
    "ExecuteTime": {
     "end_time": "2021-09-01T19:24:35.366692Z",
     "start_time": "2021-09-01T19:24:35.340015Z"
    }
   },
   "outputs": [
    {
     "data": {
      "text/html": [
       "<div>\n",
       "<style scoped>\n",
       "    .dataframe tbody tr th:only-of-type {\n",
       "        vertical-align: middle;\n",
       "    }\n",
       "\n",
       "    .dataframe tbody tr th {\n",
       "        vertical-align: top;\n",
       "    }\n",
       "\n",
       "    .dataframe thead th {\n",
       "        text-align: right;\n",
       "    }\n",
       "</style>\n",
       "<table border=\"1\" class=\"dataframe\">\n",
       "  <thead>\n",
       "    <tr style=\"text-align: right;\">\n",
       "      <th></th>\n",
       "      <th>sepal length (cm)</th>\n",
       "      <th>sepal width (cm)</th>\n",
       "      <th>petal length (cm)</th>\n",
       "      <th>petal width (cm)</th>\n",
       "    </tr>\n",
       "  </thead>\n",
       "  <tbody>\n",
       "    <tr>\n",
       "      <th>sepal length (cm)</th>\n",
       "      <td>1.000000</td>\n",
       "      <td>-0.117570</td>\n",
       "      <td>0.871754</td>\n",
       "      <td>0.817941</td>\n",
       "    </tr>\n",
       "    <tr>\n",
       "      <th>sepal width (cm)</th>\n",
       "      <td>-0.117570</td>\n",
       "      <td>1.000000</td>\n",
       "      <td>-0.428440</td>\n",
       "      <td>-0.366126</td>\n",
       "    </tr>\n",
       "    <tr>\n",
       "      <th>petal length (cm)</th>\n",
       "      <td>0.871754</td>\n",
       "      <td>-0.428440</td>\n",
       "      <td>1.000000</td>\n",
       "      <td>0.962865</td>\n",
       "    </tr>\n",
       "    <tr>\n",
       "      <th>petal width (cm)</th>\n",
       "      <td>0.817941</td>\n",
       "      <td>-0.366126</td>\n",
       "      <td>0.962865</td>\n",
       "      <td>1.000000</td>\n",
       "    </tr>\n",
       "  </tbody>\n",
       "</table>\n",
       "</div>"
      ],
      "text/plain": [
       "                   sepal length (cm)  sepal width (cm)  petal length (cm)  \\\n",
       "sepal length (cm)           1.000000         -0.117570           0.871754   \n",
       "sepal width (cm)           -0.117570          1.000000          -0.428440   \n",
       "petal length (cm)           0.871754         -0.428440           1.000000   \n",
       "petal width (cm)            0.817941         -0.366126           0.962865   \n",
       "\n",
       "                   petal width (cm)  \n",
       "sepal length (cm)          0.817941  \n",
       "sepal width (cm)          -0.366126  \n",
       "petal length (cm)          0.962865  \n",
       "petal width (cm)           1.000000  "
      ]
     },
     "execution_count": 349,
     "metadata": {},
     "output_type": "execute_result"
    }
   ],
   "source": [
    "cov_matrix = get_convariance_matrix(df_standard)\n",
    "cov_matrix"
   ]
  },
  {
   "cell_type": "markdown",
   "id": "6468a9be",
   "metadata": {},
   "source": [
    "## Finding Eigenvalues and Eigenvectors"
   ]
  },
  {
   "cell_type": "markdown",
   "id": "286c999f",
   "metadata": {},
   "source": [
    "### Implementation"
   ]
  },
  {
   "cell_type": "code",
   "execution_count": 350,
   "id": "22967f48",
   "metadata": {
    "ExecuteTime": {
     "end_time": "2021-09-01T19:24:36.100054Z",
     "start_time": "2021-09-01T19:24:36.087685Z"
    }
   },
   "outputs": [],
   "source": [
    "def get_eigenvectors(mat):\n",
    "    eig_values, eig_vectors = np.linalg.eig(mat) \n",
    "    \n",
    "    idx = eig_values.argsort()[::-1]   \n",
    "    eig_values = eig_values[idx]\n",
    "    eig_vectors = eig_vectors[:,idx]\n",
    "    \n",
    "    info_in_dim = [float(eig/sum(eig_values))*100 for eig in eig_values]\n",
    "    return eig_values, eig_vectors, info_in_dim"
   ]
  },
  {
   "cell_type": "markdown",
   "id": "4350e933",
   "metadata": {},
   "source": [
    "### Testing"
   ]
  },
  {
   "cell_type": "code",
   "execution_count": 351,
   "id": "f0facc2c",
   "metadata": {
    "ExecuteTime": {
     "end_time": "2021-09-01T19:24:36.515955Z",
     "start_time": "2021-09-01T19:24:36.506447Z"
    }
   },
   "outputs": [
    {
     "name": "stdout",
     "output_type": "stream",
     "text": [
      "Sorted eigenvalues are\n",
      " [2.91849782 0.91403047 0.14675688 0.02071484] \n",
      "\n",
      "Sorted eigenvectors are\n",
      " [[ 0.52106591 -0.37741762 -0.71956635  0.26128628]\n",
      " [-0.26934744 -0.92329566  0.24438178 -0.12350962]\n",
      " [ 0.5804131  -0.02449161  0.14212637 -0.80144925]\n",
      " [ 0.56485654 -0.06694199  0.63427274  0.52359713]] \n",
      "\n",
      "The percentage of variance (information) accounted for by each component is\n",
      " [72.96244541329987, 22.85076178670178, 3.668921889282873, 0.5178709107154614]\n"
     ]
    }
   ],
   "source": [
    "eig_values, eig_vectors, info_in_dim = get_eigenvectors(cov_matrix)\n",
    "print(\"Sorted eigenvalues are\\n\", eig_values, '\\n\\nSorted eigenvectors are\\n', eig_vectors,\n",
    "      \"\\n\\nThe percentage of variance (information) accounted for by each component is\\n\", info_in_dim)"
   ]
  },
  {
   "cell_type": "markdown",
   "id": "ee75819f",
   "metadata": {},
   "source": [
    "## Project the Data Along the Principal Component Axes"
   ]
  },
  {
   "cell_type": "markdown",
   "id": "5621655c",
   "metadata": {},
   "source": [
    "### Implementation"
   ]
  },
  {
   "cell_type": "code",
   "execution_count": 352,
   "id": "5ddf9f1d",
   "metadata": {
    "ExecuteTime": {
     "end_time": "2021-09-01T19:24:37.272136Z",
     "start_time": "2021-09-01T19:24:37.261623Z"
    }
   },
   "outputs": [],
   "source": [
    "def project_data_on_pc(data, eig_vectors, ndim = 1):\n",
    "    projected_df = pd.DataFrame({'PCA_0' : []})\n",
    "    \n",
    "    for i in range(ndim):\n",
    "        col_name = \"PCA_\" + str(i)\n",
    "        transformed_data = data.dot(eig_vectors.T[i])\n",
    "        projected_df[col_name] = transformed_data\n",
    "    return projected_df"
   ]
  },
  {
   "cell_type": "markdown",
   "id": "cff12f25",
   "metadata": {},
   "source": [
    "### Testing"
   ]
  },
  {
   "cell_type": "code",
   "execution_count": 353,
   "id": "3576264a",
   "metadata": {
    "ExecuteTime": {
     "end_time": "2021-09-01T19:24:37.774623Z",
     "start_time": "2021-09-01T19:24:37.757342Z"
    }
   },
   "outputs": [
    {
     "name": "stdout",
     "output_type": "stream",
     "text": [
      "(150, 4) (4, 4)\n",
      "        PCA_0     PCA_1\n",
      "0   -2.257141 -0.478424\n",
      "1   -2.074013  0.671883\n",
      "2   -2.356335  0.340766\n",
      "3   -2.291707  0.595400\n",
      "4   -2.381863 -0.644676\n",
      "..        ...       ...\n",
      "145  1.864258 -0.385674\n",
      "146  1.559356  0.893693\n",
      "147  1.516091 -0.268171\n",
      "148  1.368204 -1.007878\n",
      "149  0.957448  0.024250\n",
      "\n",
      "[150 rows x 2 columns]\n"
     ]
    }
   ],
   "source": [
    "print(df_standard.shape, eig_vectors.shape)\n",
    "print(project_data_on_pc(df_standard, eig_vectors, 2))  "
   ]
  },
  {
   "cell_type": "markdown",
   "id": "70e84bae",
   "metadata": {},
   "source": [
    "## Combining all the previous"
   ]
  },
  {
   "cell_type": "markdown",
   "id": "a5fb1350",
   "metadata": {},
   "source": [
    "### Implementation"
   ]
  },
  {
   "cell_type": "code",
   "execution_count": 360,
   "id": "e3c3a633",
   "metadata": {
    "ExecuteTime": {
     "end_time": "2021-09-01T19:27:14.787733Z",
     "start_time": "2021-09-01T19:27:14.777870Z"
    }
   },
   "outputs": [],
   "source": [
    "class PCA: \n",
    "    def __init__(self, data):\n",
    "        self.original_data = data\n",
    "        self.standard_data = None\n",
    "        self.info = []\n",
    "        self.eig_values = []\n",
    "        self.eig_vectors = []\n",
    "    \n",
    "    def standardize(self):\n",
    "        df_copy = self.original_data.copy()\n",
    "\n",
    "        for col in list(df_copy.columns):\n",
    "            col_mean = df_copy[col].mean()\n",
    "            col_std = df_copy[col].std()\n",
    "            df_copy[col] = (df_copy[col] - col_mean) / (col_std)\n",
    "        return df_copy\n",
    "    \n",
    "    def get_convariance_matrix(self, df):\n",
    "        cov_mat = df.cov()\n",
    "        return cov_mat\n",
    "    \n",
    "    def get_eigenvectors(self, mat):\n",
    "        eig_values, eig_vectors = np.linalg.eig(mat) \n",
    "\n",
    "        idx = eig_values.argsort()[::-1]   \n",
    "        eig_values = eig_values[idx]\n",
    "        eig_vectors = eig_vectors[:,idx]\n",
    "\n",
    "        info_in_dim = [float(eig/sum(eig_values))*100 for eig in eig_values]\n",
    "        return eig_values, eig_vectors, info_in_dim\n",
    "    \n",
    "    def fit(self):\n",
    "        self.standard_data = self.standardize()\n",
    "        cov_matrix = self.get_convariance_matrix(self.standard_data)\n",
    "        self.eig_values, self.eig_vectors, self.info_in_dim = self.get_eigenvectors(cov_matrix)\n",
    "    \n",
    "    def project(self, ndim = 1):\n",
    "        projected_df = pd.DataFrame({'PCA_0' : []})\n",
    "        try:\n",
    "            for i in range(ndim):\n",
    "                col_name = \"PCA_\" + str(i)\n",
    "                transformed_data = self.standard_data.dot(self.eig_vectors.T[i])\n",
    "                projected_df[col_name] = transformed_data\n",
    "        except IndexError:\n",
    "            print(\"Dimensions are greater than the eigen vectors, please reduce it\")\n",
    "        except:\n",
    "            print(\"Check the inputs and try again\") \n",
    "        return projected_df\n",
    "\n",
    "    def get_percentage_of_variance(self):\n",
    "        return self.info_in_dim"
   ]
  },
  {
   "cell_type": "markdown",
   "id": "c8af511f",
   "metadata": {},
   "source": [
    "### Testing"
   ]
  },
  {
   "cell_type": "code",
   "execution_count": 361,
   "id": "6dd43e4f",
   "metadata": {
    "ExecuteTime": {
     "end_time": "2021-09-01T19:27:16.722555Z",
     "start_time": "2021-09-01T19:27:16.713039Z"
    }
   },
   "outputs": [
    {
     "data": {
      "text/plain": [
       "[72.96244541329987, 22.85076178670178, 3.668921889282873, 0.5178709107154614]"
      ]
     },
     "execution_count": 361,
     "metadata": {},
     "output_type": "execute_result"
    }
   ],
   "source": [
    "pca = PCA(df[features]) \n",
    "pca.fit()\n",
    "pca.get_percentage_of_variance()"
   ]
  },
  {
   "cell_type": "markdown",
   "id": "add03b5f",
   "metadata": {},
   "source": [
    "Choosing the first two components only"
   ]
  },
  {
   "cell_type": "code",
   "execution_count": 363,
   "id": "c6576a7b",
   "metadata": {
    "ExecuteTime": {
     "end_time": "2021-09-01T19:27:25.748909Z",
     "start_time": "2021-09-01T19:27:25.721686Z"
    }
   },
   "outputs": [
    {
     "data": {
      "text/html": [
       "<div>\n",
       "<style scoped>\n",
       "    .dataframe tbody tr th:only-of-type {\n",
       "        vertical-align: middle;\n",
       "    }\n",
       "\n",
       "    .dataframe tbody tr th {\n",
       "        vertical-align: top;\n",
       "    }\n",
       "\n",
       "    .dataframe thead th {\n",
       "        text-align: right;\n",
       "    }\n",
       "</style>\n",
       "<table border=\"1\" class=\"dataframe\">\n",
       "  <thead>\n",
       "    <tr style=\"text-align: right;\">\n",
       "      <th></th>\n",
       "      <th>PCA_0</th>\n",
       "      <th>PCA_1</th>\n",
       "    </tr>\n",
       "  </thead>\n",
       "  <tbody>\n",
       "    <tr>\n",
       "      <th>0</th>\n",
       "      <td>-2.257141</td>\n",
       "      <td>-0.478424</td>\n",
       "    </tr>\n",
       "    <tr>\n",
       "      <th>1</th>\n",
       "      <td>-2.074013</td>\n",
       "      <td>0.671883</td>\n",
       "    </tr>\n",
       "    <tr>\n",
       "      <th>2</th>\n",
       "      <td>-2.356335</td>\n",
       "      <td>0.340766</td>\n",
       "    </tr>\n",
       "    <tr>\n",
       "      <th>3</th>\n",
       "      <td>-2.291707</td>\n",
       "      <td>0.595400</td>\n",
       "    </tr>\n",
       "    <tr>\n",
       "      <th>4</th>\n",
       "      <td>-2.381863</td>\n",
       "      <td>-0.644676</td>\n",
       "    </tr>\n",
       "    <tr>\n",
       "      <th>...</th>\n",
       "      <td>...</td>\n",
       "      <td>...</td>\n",
       "    </tr>\n",
       "    <tr>\n",
       "      <th>145</th>\n",
       "      <td>1.864258</td>\n",
       "      <td>-0.385674</td>\n",
       "    </tr>\n",
       "    <tr>\n",
       "      <th>146</th>\n",
       "      <td>1.559356</td>\n",
       "      <td>0.893693</td>\n",
       "    </tr>\n",
       "    <tr>\n",
       "      <th>147</th>\n",
       "      <td>1.516091</td>\n",
       "      <td>-0.268171</td>\n",
       "    </tr>\n",
       "    <tr>\n",
       "      <th>148</th>\n",
       "      <td>1.368204</td>\n",
       "      <td>-1.007878</td>\n",
       "    </tr>\n",
       "    <tr>\n",
       "      <th>149</th>\n",
       "      <td>0.957448</td>\n",
       "      <td>0.024250</td>\n",
       "    </tr>\n",
       "  </tbody>\n",
       "</table>\n",
       "<p>150 rows × 2 columns</p>\n",
       "</div>"
      ],
      "text/plain": [
       "        PCA_0     PCA_1\n",
       "0   -2.257141 -0.478424\n",
       "1   -2.074013  0.671883\n",
       "2   -2.356335  0.340766\n",
       "3   -2.291707  0.595400\n",
       "4   -2.381863 -0.644676\n",
       "..        ...       ...\n",
       "145  1.864258 -0.385674\n",
       "146  1.559356  0.893693\n",
       "147  1.516091 -0.268171\n",
       "148  1.368204 -1.007878\n",
       "149  0.957448  0.024250\n",
       "\n",
       "[150 rows x 2 columns]"
      ]
     },
     "execution_count": 363,
     "metadata": {},
     "output_type": "execute_result"
    }
   ],
   "source": [
    "transformed_df = pca.project(2)\n",
    "transformed_df"
   ]
  },
  {
   "cell_type": "markdown",
   "id": "59029f1d",
   "metadata": {},
   "source": [
    "### Comparing with sklearn library"
   ]
  },
  {
   "cell_type": "code",
   "execution_count": 364,
   "id": "7a6b09f9",
   "metadata": {
    "ExecuteTime": {
     "end_time": "2021-09-01T19:27:28.921224Z",
     "start_time": "2021-09-01T19:27:28.906157Z"
    }
   },
   "outputs": [
    {
     "data": {
      "text/plain": [
       "PCA(n_components=2)"
      ]
     },
     "execution_count": 364,
     "metadata": {},
     "output_type": "execute_result"
    }
   ],
   "source": [
    "pca_lib = sklearn.decomposition.PCA(n_components=2)\n",
    "pca_lib.fit(df_standard)"
   ]
  },
  {
   "cell_type": "code",
   "execution_count": 365,
   "id": "ae85d3fb",
   "metadata": {
    "ExecuteTime": {
     "end_time": "2021-09-01T19:27:30.286642Z",
     "start_time": "2021-09-01T19:27:30.256499Z"
    }
   },
   "outputs": [
    {
     "data": {
      "text/html": [
       "<div>\n",
       "<style scoped>\n",
       "    .dataframe tbody tr th:only-of-type {\n",
       "        vertical-align: middle;\n",
       "    }\n",
       "\n",
       "    .dataframe tbody tr th {\n",
       "        vertical-align: top;\n",
       "    }\n",
       "\n",
       "    .dataframe thead th {\n",
       "        text-align: right;\n",
       "    }\n",
       "</style>\n",
       "<table border=\"1\" class=\"dataframe\">\n",
       "  <thead>\n",
       "    <tr style=\"text-align: right;\">\n",
       "      <th></th>\n",
       "      <th>0</th>\n",
       "      <th>1</th>\n",
       "    </tr>\n",
       "  </thead>\n",
       "  <tbody>\n",
       "    <tr>\n",
       "      <th>0</th>\n",
       "      <td>-2.257141</td>\n",
       "      <td>0.478424</td>\n",
       "    </tr>\n",
       "    <tr>\n",
       "      <th>1</th>\n",
       "      <td>-2.074013</td>\n",
       "      <td>-0.671883</td>\n",
       "    </tr>\n",
       "    <tr>\n",
       "      <th>2</th>\n",
       "      <td>-2.356335</td>\n",
       "      <td>-0.340766</td>\n",
       "    </tr>\n",
       "    <tr>\n",
       "      <th>3</th>\n",
       "      <td>-2.291707</td>\n",
       "      <td>-0.595400</td>\n",
       "    </tr>\n",
       "    <tr>\n",
       "      <th>4</th>\n",
       "      <td>-2.381863</td>\n",
       "      <td>0.644676</td>\n",
       "    </tr>\n",
       "    <tr>\n",
       "      <th>...</th>\n",
       "      <td>...</td>\n",
       "      <td>...</td>\n",
       "    </tr>\n",
       "    <tr>\n",
       "      <th>145</th>\n",
       "      <td>1.864258</td>\n",
       "      <td>0.385674</td>\n",
       "    </tr>\n",
       "    <tr>\n",
       "      <th>146</th>\n",
       "      <td>1.559356</td>\n",
       "      <td>-0.893693</td>\n",
       "    </tr>\n",
       "    <tr>\n",
       "      <th>147</th>\n",
       "      <td>1.516091</td>\n",
       "      <td>0.268171</td>\n",
       "    </tr>\n",
       "    <tr>\n",
       "      <th>148</th>\n",
       "      <td>1.368204</td>\n",
       "      <td>1.007878</td>\n",
       "    </tr>\n",
       "    <tr>\n",
       "      <th>149</th>\n",
       "      <td>0.957448</td>\n",
       "      <td>-0.024250</td>\n",
       "    </tr>\n",
       "  </tbody>\n",
       "</table>\n",
       "<p>150 rows × 2 columns</p>\n",
       "</div>"
      ],
      "text/plain": [
       "            0         1\n",
       "0   -2.257141  0.478424\n",
       "1   -2.074013 -0.671883\n",
       "2   -2.356335 -0.340766\n",
       "3   -2.291707 -0.595400\n",
       "4   -2.381863  0.644676\n",
       "..        ...       ...\n",
       "145  1.864258  0.385674\n",
       "146  1.559356 -0.893693\n",
       "147  1.516091  0.268171\n",
       "148  1.368204  1.007878\n",
       "149  0.957448 -0.024250\n",
       "\n",
       "[150 rows x 2 columns]"
      ]
     },
     "execution_count": 365,
     "metadata": {},
     "output_type": "execute_result"
    }
   ],
   "source": [
    "transformed_df_lib = pd.DataFrame(pca_lib.transform(df_standard))\n",
    "transformed_df_lib"
   ]
  },
  {
   "cell_type": "code",
   "execution_count": null,
   "id": "f27ec361",
   "metadata": {},
   "outputs": [],
   "source": []
  }
 ],
 "metadata": {
  "kernelspec": {
   "display_name": "Python 3.8.5 64-bit ('base': conda)",
   "language": "python",
   "name": "python385jvsc74a57bd068958b051a8e3307637466acb0b5881b35851b5d6116eb627bf4e8121b3d2944"
  },
  "language_info": {
   "codemirror_mode": {
    "name": "ipython",
    "version": 3
   },
   "file_extension": ".py",
   "mimetype": "text/x-python",
   "name": "python",
   "nbconvert_exporter": "python",
   "pygments_lexer": "ipython3",
   "version": "3.8.5"
  },
  "toc": {
   "base_numbering": 1,
   "nav_menu": {},
   "number_sections": true,
   "sideBar": true,
   "skip_h1_title": false,
   "title_cell": "Table of Contents",
   "title_sidebar": "Contents",
   "toc_cell": false,
   "toc_position": {},
   "toc_section_display": true,
   "toc_window_display": false
  },
  "varInspector": {
   "cols": {
    "lenName": 16,
    "lenType": 16,
    "lenVar": 40
   },
   "kernels_config": {
    "python": {
     "delete_cmd_postfix": "",
     "delete_cmd_prefix": "del ",
     "library": "var_list.py",
     "varRefreshCmd": "print(var_dic_list())"
    },
    "r": {
     "delete_cmd_postfix": ") ",
     "delete_cmd_prefix": "rm(",
     "library": "var_list.r",
     "varRefreshCmd": "cat(var_dic_list()) "
    }
   },
   "types_to_exclude": [
    "module",
    "function",
    "builtin_function_or_method",
    "instance",
    "_Feature"
   ],
   "window_display": false
  }
 },
 "nbformat": 4,
 "nbformat_minor": 5
}
